{
 "cells": [
  {
   "cell_type": "code",
   "execution_count": 2,
   "metadata": {},
   "outputs": [],
   "source": [
    "from os.path import exists \n",
    "import joblib\n",
    "import pandas as pd\n",
    "import numpy as np\n",
    "from sklearn.ensemble import RandomForestClassifier, AdaBoostClassifier, GradientBoostingClassifier\n",
    "from sklearn.tree import DecisionTreeClassifier\n",
    "from sklearn.model_selection import train_test_split\n",
    "from sklearn.preprocessing import StandardScaler\n",
    "from sklearn.metrics import classification_report\n",
    "from sklearn.model_selection import GridSearchCV"
   ]
  },
  {
   "cell_type": "markdown",
   "metadata": {},
   "source": [
    "## READ FILE"
   ]
  },
  {
   "cell_type": "code",
   "execution_count": 3,
   "metadata": {},
   "outputs": [
    {
     "data": {
      "text/html": [
       "<div>\n",
       "<style scoped>\n",
       "    .dataframe tbody tr th:only-of-type {\n",
       "        vertical-align: middle;\n",
       "    }\n",
       "\n",
       "    .dataframe tbody tr th {\n",
       "        vertical-align: top;\n",
       "    }\n",
       "\n",
       "    .dataframe thead th {\n",
       "        text-align: right;\n",
       "    }\n",
       "</style>\n",
       "<table border=\"1\" class=\"dataframe\">\n",
       "  <thead>\n",
       "    <tr style=\"text-align: right;\">\n",
       "      <th></th>\n",
       "      <th>group_id</th>\n",
       "      <th>hour</th>\n",
       "      <th>day_of_week</th>\n",
       "      <th>month</th>\n",
       "      <th>tract_id</th>\n",
       "      <th>grid_id</th>\n",
       "    </tr>\n",
       "  </thead>\n",
       "  <tbody>\n",
       "    <tr>\n",
       "      <th>5</th>\n",
       "      <td>34</td>\n",
       "      <td>19</td>\n",
       "      <td>2</td>\n",
       "      <td>4</td>\n",
       "      <td>30</td>\n",
       "      <td>40</td>\n",
       "    </tr>\n",
       "    <tr>\n",
       "      <th>11</th>\n",
       "      <td>57</td>\n",
       "      <td>18</td>\n",
       "      <td>2</td>\n",
       "      <td>4</td>\n",
       "      <td>174</td>\n",
       "      <td>56</td>\n",
       "    </tr>\n",
       "  </tbody>\n",
       "</table>\n",
       "</div>"
      ],
      "text/plain": [
       "    group_id  hour  day_of_week  month  tract_id  grid_id\n",
       "5         34    19            2      4        30       40\n",
       "11        57    18            2      4       174       56"
      ]
     },
     "execution_count": 3,
     "metadata": {},
     "output_type": "execute_result"
    }
   ],
   "source": [
    "df = pd.read_csv('../../csv-files/crimes.csv')\n",
    "# df = df[df['group_id'].isin([5,9,14,17,19,20,27,30,34,35,36,41,42,55,56,57,66])].copy()\n",
    "df = df[df['group_id'].isin([57,20,41,34,36,19,42])].copy()\n",
    "df.drop(['id','offense_code','offense_group','longitude','latitude','year'], axis=1, inplace=True)\n",
    "df.head(2)"
   ]
  },
  {
   "cell_type": "markdown",
   "metadata": {},
   "source": [
    "\n",
    "## TRAINING AND TESTING DATA"
   ]
  },
  {
   "cell_type": "code",
   "execution_count": 4,
   "metadata": {},
   "outputs": [],
   "source": [
    "X = df[['hour', 'day_of_week', 'month','grid_id']]\n",
    "y = df['group_id']\n",
    "\n",
    "X_train, X_test, y_train, y_test = train_test_split(X,y,test_size=0.2,random_state=9)\n",
    "    \n",
    "# standardScaler = StandardScaler()\n",
    "# X_train = standardScaler.fit_transform(X_train)\n",
    "# X_test = standardScaler.transform(X_test)"
   ]
  },
  {
   "cell_type": "markdown",
   "metadata": {},
   "source": [
    "## APPLYING MODEL"
   ]
  },
  {
   "cell_type": "code",
   "execution_count": 10,
   "metadata": {},
   "outputs": [
    {
     "data": {
      "text/plain": [
       "0.2957849368105778"
      ]
     },
     "execution_count": 10,
     "metadata": {},
     "output_type": "execute_result"
    }
   ],
   "source": [
    "model = DecisionTreeClassifier()\n",
    "model.fit(X_train,y_train)\n",
    "\n",
    "model.score(X_test,y_test)"
   ]
  },
  {
   "cell_type": "code",
   "execution_count": 11,
   "metadata": {},
   "outputs": [
    {
     "name": "stdout",
     "output_type": "stream",
     "text": [
      "              precision    recall  f1-score   support\n",
      "\n",
      "          19       0.09      0.12      0.10       937\n",
      "          20       0.26      0.32      0.29      3101\n",
      "          34       0.19      0.20      0.19      1022\n",
      "          36       0.16      0.14      0.15      1180\n",
      "          41       0.15      0.14      0.14      1443\n",
      "          42       0.11      0.08      0.09       850\n",
      "          57       0.51      0.45      0.48      5156\n",
      "\n",
      "    accuracy                           0.30     13689\n",
      "   macro avg       0.21      0.21      0.21     13689\n",
      "weighted avg       0.31      0.30      0.30     13689\n",
      "\n"
     ]
    }
   ],
   "source": [
    "y_predicted = model.predict(X_test)\n",
    "cr = classification_report(y_test, y_predicted)\n",
    "print(cr)"
   ]
  },
  {
   "cell_type": "code",
   "execution_count": 12,
   "metadata": {},
   "outputs": [
    {
     "data": {
      "text/plain": [
       "0.3356709766966177"
      ]
     },
     "execution_count": 12,
     "metadata": {},
     "output_type": "execute_result"
    }
   ],
   "source": [
    "model = RandomForestClassifier(n_estimators=250)\n",
    "model.fit(X_train,y_train)\n",
    "\n",
    "model.score(X_test,y_test)"
   ]
  },
  {
   "cell_type": "code",
   "execution_count": 13,
   "metadata": {},
   "outputs": [
    {
     "name": "stdout",
     "output_type": "stream",
     "text": [
      "              precision    recall  f1-score   support\n",
      "\n",
      "          19       0.11      0.07      0.09       937\n",
      "          20       0.27      0.28      0.27      3101\n",
      "          34       0.21      0.17      0.19      1022\n",
      "          36       0.16      0.11      0.13      1180\n",
      "          41       0.15      0.13      0.14      1443\n",
      "          42       0.13      0.10      0.11       850\n",
      "          57       0.48      0.60      0.53      5156\n",
      "\n",
      "    accuracy                           0.34     13689\n",
      "   macro avg       0.22      0.21      0.21     13689\n",
      "weighted avg       0.30      0.34      0.32     13689\n",
      "\n"
     ]
    }
   ],
   "source": [
    "y_predicted = model.predict(X_test)\n",
    "cr = classification_report(y_test, y_predicted)\n",
    "print(cr)"
   ]
  },
  {
   "cell_type": "code",
   "execution_count": 14,
   "metadata": {},
   "outputs": [
    {
     "data": {
      "text/plain": [
       "0.40616553437066255"
      ]
     },
     "execution_count": 14,
     "metadata": {},
     "output_type": "execute_result"
    }
   ],
   "source": [
    "model = AdaBoostClassifier(n_estimators=250)\n",
    "model.fit(X_train,y_train)\n",
    "\n",
    "model.score(X_test,y_test)"
   ]
  },
  {
   "cell_type": "code",
   "execution_count": 16,
   "metadata": {},
   "outputs": [
    {
     "name": "stdout",
     "output_type": "stream",
     "text": [
      "              precision    recall  f1-score   support\n",
      "\n",
      "          19       0.00      0.00      0.00       937\n",
      "          20       0.29      0.34      0.32      3101\n",
      "          34       0.00      0.00      0.00      1022\n",
      "          36       0.23      0.01      0.02      1180\n",
      "          41       0.00      0.00      0.00      1443\n",
      "          42       0.00      0.00      0.00       850\n",
      "          57       0.45      0.87      0.59      5156\n",
      "\n",
      "    accuracy                           0.41     13689\n",
      "   macro avg       0.14      0.17      0.13     13689\n",
      "weighted avg       0.26      0.41      0.30     13689\n",
      "\n"
     ]
    },
    {
     "name": "stderr",
     "output_type": "stream",
     "text": [
      "/home/diademuertos/scripts/docker/Crime/jupiter/venv/lib/python3.5/site-packages/sklearn/metrics/classification.py:1437: UndefinedMetricWarning: Precision and F-score are ill-defined and being set to 0.0 in labels with no predicted samples.\n",
      "  'precision', 'predicted', average, warn_for)\n"
     ]
    }
   ],
   "source": [
    "y_predicted = model.predict(X_test)\n",
    "cr = classification_report(y_test, y_predicted)\n",
    "print(cr)"
   ]
  },
  {
   "cell_type": "code",
   "execution_count": 17,
   "metadata": {},
   "outputs": [
    {
     "data": {
      "text/plain": [
       "0.4099642048359997"
      ]
     },
     "execution_count": 17,
     "metadata": {},
     "output_type": "execute_result"
    }
   ],
   "source": [
    "model = GradientBoostingClassifier(n_estimators=250)\n",
    "model.fit(X_train,y_train)\n",
    "\n",
    "model.score(X_test,y_test)"
   ]
  },
  {
   "cell_type": "code",
   "execution_count": 18,
   "metadata": {},
   "outputs": [
    {
     "name": "stdout",
     "output_type": "stream",
     "text": [
      "              precision    recall  f1-score   support\n",
      "\n",
      "          19       0.05      0.00      0.00       937\n",
      "          20       0.30      0.36      0.33      3101\n",
      "          34       0.34      0.04      0.07      1022\n",
      "          36       0.28      0.03      0.06      1180\n",
      "          41       0.24      0.03      0.05      1443\n",
      "          42       0.25      0.00      0.01       850\n",
      "          57       0.46      0.85      0.60      5156\n",
      "\n",
      "    accuracy                           0.41     13689\n",
      "   macro avg       0.27      0.19      0.16     13689\n",
      "weighted avg       0.34      0.41      0.31     13689\n",
      "\n"
     ]
    }
   ],
   "source": [
    "y_predicted = model.predict(X_test)\n",
    "cr = classification_report(y_test, y_predicted)\n",
    "print(cr)"
   ]
  },
  {
   "cell_type": "markdown",
   "metadata": {},
   "source": [
    "## GET REPORT"
   ]
  },
  {
   "cell_type": "code",
   "execution_count": 9,
   "metadata": {},
   "outputs": [
    {
     "name": "stdout",
     "output_type": "stream",
     "text": [
      "              precision    recall  f1-score   support\n",
      "\n",
      "          19       0.05      0.00      0.00       937\n",
      "          20       0.30      0.36      0.33      3101\n",
      "          34       0.34      0.04      0.07      1022\n",
      "          36       0.28      0.03      0.06      1180\n",
      "          41       0.24      0.03      0.05      1443\n",
      "          42       0.24      0.00      0.01       850\n",
      "          57       0.46      0.85      0.60      5156\n",
      "\n",
      "    accuracy                           0.41     13689\n",
      "   macro avg       0.27      0.19      0.16     13689\n",
      "weighted avg       0.33      0.41      0.31     13689\n",
      "\n"
     ]
    }
   ],
   "source": [
    "y_predicted = model.predict(X_test)\n",
    "cr = classification_report(y_test, y_predicted)\n",
    "print(cr)"
   ]
  }
 ],
 "metadata": {
  "kernelspec": {
   "display_name": "Python 3",
   "language": "python",
   "name": "python3"
  },
  "language_info": {
   "codemirror_mode": {
    "name": "ipython",
    "version": 3
   },
   "file_extension": ".py",
   "mimetype": "text/x-python",
   "name": "python",
   "nbconvert_exporter": "python",
   "pygments_lexer": "ipython3",
   "version": "3.5.2"
  }
 },
 "nbformat": 4,
 "nbformat_minor": 2
}
